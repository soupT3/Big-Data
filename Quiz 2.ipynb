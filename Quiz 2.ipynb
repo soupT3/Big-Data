{
 "cells": [
  {
   "cell_type": "code",
   "execution_count": 106,
   "metadata": {},
   "outputs": [],
   "source": [
    "#input the path that contains your text file\n",
    "input_path='/Users/supriyatiwari/Documents/PySpark_docs/foxy.txt'\n",
    "recs=spark.sparkContext.textFile(input_path)"
   ]
  },
  {
   "cell_type": "code",
   "execution_count": 107,
   "metadata": {},
   "outputs": [
    {
     "data": {
      "text/plain": [
       "['a Fox jumped high and high and jumped and jumped',\n",
       " 'fox of red jumped fox of red jumped fox of red jumped',\n",
       " 'fox of blue jumped',\n",
       " 'a Fox is a red fox of hen',\n",
       " 'a fox is a high fox',\n",
       " 'orange fox is high and blue and blue']"
      ]
     },
     "execution_count": 107,
     "metadata": {},
     "output_type": "execute_result"
    }
   ],
   "source": [
    "#filter records only if length is equal to or greater than 10\n",
    "filt= recs.filter(lambda x: len(x)>=10)\n",
    "filt.collect()"
   ]
  },
  {
   "cell_type": "code",
   "execution_count": 108,
   "metadata": {
    "scrolled": true
   },
   "outputs": [
    {
     "data": {
      "text/plain": [
       "[['a',\n",
       "  'Fox',\n",
       "  'jumped',\n",
       "  'high',\n",
       "  'and',\n",
       "  'high',\n",
       "  'and',\n",
       "  'jumped',\n",
       "  'and',\n",
       "  'jumped'],\n",
       " ['fox',\n",
       "  'of',\n",
       "  'red',\n",
       "  'jumped',\n",
       "  'fox',\n",
       "  'of',\n",
       "  'red',\n",
       "  'jumped',\n",
       "  'fox',\n",
       "  'of',\n",
       "  'red',\n",
       "  'jumped'],\n",
       " ['fox', 'of', 'blue', 'jumped'],\n",
       " ['a', 'Fox', 'is', 'a', 'red', 'fox', 'of', 'hen'],\n",
       " ['a', 'fox', 'is', 'a', 'high', 'fox'],\n",
       " ['orange', 'fox', 'is', 'high', 'and', 'blue', 'and', 'blue']]"
      ]
     },
     "execution_count": 108,
     "metadata": {},
     "output_type": "execute_result"
    }
   ],
   "source": [
    "#split the words by space\n",
    "splitted = filt.map(lambda x: x.split(\" \"))\n",
    "splitted.collect()"
   ]
  },
  {
   "cell_type": "code",
   "execution_count": 109,
   "metadata": {},
   "outputs": [
    {
     "data": {
      "text/plain": [
       "48"
      ]
     },
     "execution_count": 109,
     "metadata": {},
     "output_type": "execute_result"
    }
   ],
   "source": [
    "#flatten the results\n",
    "words=splitted.flatMap(lambda x:x)\n",
    "words.count()"
   ]
  },
  {
   "cell_type": "code",
   "execution_count": 110,
   "metadata": {},
   "outputs": [
    {
     "data": {
      "text/plain": [
       "['Fox',\n",
       " 'jumped',\n",
       " 'high',\n",
       " 'and',\n",
       " 'high',\n",
       " 'and',\n",
       " 'jumped',\n",
       " 'and',\n",
       " 'jumped',\n",
       " 'fox',\n",
       " 'red',\n",
       " 'jumped',\n",
       " 'fox',\n",
       " 'red',\n",
       " 'jumped',\n",
       " 'fox',\n",
       " 'red',\n",
       " 'jumped',\n",
       " 'fox',\n",
       " 'blue',\n",
       " 'jumped',\n",
       " 'Fox',\n",
       " 'red',\n",
       " 'fox',\n",
       " 'hen',\n",
       " 'fox',\n",
       " 'high',\n",
       " 'fox',\n",
       " 'orange',\n",
       " 'fox',\n",
       " 'high',\n",
       " 'and',\n",
       " 'blue',\n",
       " 'and',\n",
       " 'blue']"
      ]
     },
     "execution_count": 110,
     "metadata": {},
     "output_type": "execute_result"
    }
   ],
   "source": [
    "#keep words with length greater than or equal to 3\n",
    "filt2=words.filter(lambda x: len(x) >= 3)\n",
    "filt2.collect()"
   ]
  },
  {
   "cell_type": "code",
   "execution_count": 111,
   "metadata": {},
   "outputs": [
    {
     "data": {
      "text/plain": [
       "['fox',\n",
       " 'jumped',\n",
       " 'high',\n",
       " 'and',\n",
       " 'high',\n",
       " 'and',\n",
       " 'jumped',\n",
       " 'and',\n",
       " 'jumped',\n",
       " 'fox',\n",
       " 'red',\n",
       " 'jumped',\n",
       " 'fox',\n",
       " 'red',\n",
       " 'jumped',\n",
       " 'fox',\n",
       " 'red',\n",
       " 'jumped',\n",
       " 'fox',\n",
       " 'blue',\n",
       " 'jumped',\n",
       " 'fox',\n",
       " 'red',\n",
       " 'fox',\n",
       " 'hen',\n",
       " 'fox',\n",
       " 'high',\n",
       " 'fox',\n",
       " 'orange',\n",
       " 'fox',\n",
       " 'high',\n",
       " 'and',\n",
       " 'blue',\n",
       " 'and',\n",
       " 'blue']"
      ]
     },
     "execution_count": 111,
     "metadata": {},
     "output_type": "execute_result"
    }
   ],
   "source": [
    "#lowercase all the filtered words\n",
    "lower = filt2.map(lambda x: x.lower())\n",
    "lower.collect()"
   ]
  },
  {
   "cell_type": "code",
   "execution_count": 112,
   "metadata": {},
   "outputs": [
    {
     "data": {
      "text/plain": [
       "[('fox', 1),\n",
       " ('jumped', 1),\n",
       " ('high', 1),\n",
       " ('and', 1),\n",
       " ('high', 1),\n",
       " ('and', 1),\n",
       " ('jumped', 1),\n",
       " ('and', 1),\n",
       " ('jumped', 1),\n",
       " ('fox', 1),\n",
       " ('red', 1),\n",
       " ('jumped', 1),\n",
       " ('fox', 1),\n",
       " ('red', 1),\n",
       " ('jumped', 1),\n",
       " ('fox', 1),\n",
       " ('red', 1),\n",
       " ('jumped', 1),\n",
       " ('fox', 1),\n",
       " ('blue', 1),\n",
       " ('jumped', 1),\n",
       " ('fox', 1),\n",
       " ('red', 1),\n",
       " ('fox', 1),\n",
       " ('hen', 1),\n",
       " ('fox', 1),\n",
       " ('high', 1),\n",
       " ('fox', 1),\n",
       " ('orange', 1),\n",
       " ('fox', 1),\n",
       " ('high', 1),\n",
       " ('and', 1),\n",
       " ('blue', 1),\n",
       " ('and', 1),\n",
       " ('blue', 1)]"
      ]
     },
     "execution_count": 112,
     "metadata": {},
     "output_type": "execute_result"
    }
   ],
   "source": [
    "#count each word\n",
    "pairs=lower.map(lambda x:(x,1))\n",
    "pairs.collect()"
   ]
  },
  {
   "cell_type": "code",
   "execution_count": 113,
   "metadata": {},
   "outputs": [
    {
     "data": {
      "text/plain": [
       "[('high', 4),\n",
       " ('hen', 1),\n",
       " ('orange', 1),\n",
       " ('fox', 10),\n",
       " ('jumped', 7),\n",
       " ('and', 5),\n",
       " ('red', 4),\n",
       " ('blue', 3)]"
      ]
     },
     "execution_count": 113,
     "metadata": {},
     "output_type": "execute_result"
    }
   ],
   "source": [
    "#calculate frequency of each word by reducing by key\n",
    "frequency = pairs.reduceByKey(lambda a,b: a+b)\n",
    "frequency.collect()"
   ]
  },
  {
   "cell_type": "code",
   "execution_count": 114,
   "metadata": {},
   "outputs": [],
   "source": [
    "#keep words with frequency equal to or greater than 4 only\n",
    "final= frequency.filter(lambda x: (x[1] >= 4))"
   ]
  },
  {
   "cell_type": "code",
   "execution_count": 115,
   "metadata": {},
   "outputs": [
    {
     "data": {
      "text/plain": [
       "[('high', 4), ('fox', 10), ('jumped', 7), ('and', 5), ('red', 4)]"
      ]
     },
     "execution_count": 115,
     "metadata": {},
     "output_type": "execute_result"
    }
   ],
   "source": [
    "#final output\n",
    "final.collect()"
   ]
  }
 ],
 "metadata": {
  "kernelspec": {
   "display_name": "Python 3",
   "language": "python",
   "name": "python3"
  },
  "language_info": {
   "codemirror_mode": {
    "name": "ipython",
    "version": 3
   },
   "file_extension": ".py",
   "mimetype": "text/x-python",
   "name": "python",
   "nbconvert_exporter": "python",
   "pygments_lexer": "ipython3",
   "version": "3.7.4"
  }
 },
 "nbformat": 4,
 "nbformat_minor": 2
}
